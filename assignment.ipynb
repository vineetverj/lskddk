{
  "cells": [
    {
      "cell_type": "code",
      "execution_count": null,
      "metadata": {
        "id": "sVUsHgU-kAeY"
      },
      "outputs": [],
      "source": [
        "Q1.Declare two variables, `x` and `y`, and assign them integer values.\n",
        "Swap the values of these variables without using any temporary\n",
        "variable."
      ]
    },
    {
      "cell_type": "code",
      "source": [
        "a = 10  # Create an integer variable 'a' with a value of 10\n",
        "b = 20  # Create an integer variable 'b' with a value of 20\n",
        "\n",
        "# Print the elements before swapping\n",
        "print(\"Elements before swapping:\", a, b)\n",
        "\n",
        "# Swapping using arithmetic operations\n",
        "a = a + b  # Add the values of 'a' and 'b', and store the result in 'a'\n",
        "# Now, 'a' becomes 30 (10 + 20)\n",
        "\n",
        "b = a - b  # Subtract the value of 'b' from the new value of 'a', and store the result in 'b'\n",
        "# Now, 'b' becomes 10 (30 - 20), and 'a' is still 30\n",
        "\n",
        "a = a - b  # Subtract the value of 'b' from the new value of 'a', and store the result in 'a'\n",
        "# Now, 'a' becomes 20 (30 - 10), and 'b' is 10\n",
        "\n",
        "# Print the elements after swapping\n",
        "print(\"After swapping:\", a, b)\n"
      ],
      "metadata": {
        "colab": {
          "base_uri": "https://localhost:8080/"
        },
        "id": "8nP8TJ8MdNFj",
        "outputId": "eb92065a-8a76-454b-fba7-756ee3fb481e"
      },
      "execution_count": 10,
      "outputs": [
        {
          "output_type": "stream",
          "name": "stdout",
          "text": [
            "Elements before swapping: 10 20\n",
            "After swapping: 20 10\n"
          ]
        }
      ]
    },
    {
      "cell_type": "code",
      "source": [
        "\n",
        "Q2.Create a program that calculates the area of a rectangle. Take the\n",
        "length and width as inputs from the user and store them in variables.\n",
        "Calculate and display the area."
      ],
      "metadata": {
        "id": "HvUOdBhCeb5P"
      },
      "execution_count": null,
      "outputs": []
    },
    {
      "cell_type": "code",
      "execution_count": 12,
      "metadata": {
        "colab": {
          "base_uri": "https://localhost:8080/"
        },
        "id": "wG-kgcr_dsob",
        "outputId": "30b897f0-56c1-459c-f6d5-022335ac718b"
      },
      "outputs": [
        {
          "output_type": "stream",
          "name": "stdout",
          "text": [
            "Enter the length: 4\n",
            "Enter the breadth: 5\n",
            "Area: 20\n"
          ]
        }
      ],
      "source": [
        "# Prompt the user to enter the length of a rectangle and convert the input to an integer.\n",
        "length = int(input(\"Enter the length: \"))\n",
        "\n",
        "# Prompt the user to enter the breadth (width) of the rectangle and convert the input to an integer.\n",
        "breadth = int(input(\"Enter the breadth: \"))\n",
        "\n",
        "# Calculate the area of the rectangle by multiplying the length and breadth.\n",
        "result = length * breadth\n",
        "\n",
        "# Print the calculated area.\n",
        "print(\"Area:\", result)\n"
      ]
    },
    {
      "cell_type": "code",
      "source": [
        "Q3. Write a Python program that converts temperature from Celsius to\n",
        "Fahrenheit. Take the temperature in Celsius as input, store it in a\n",
        "variable, convert it to Fahrenheit, and display the result."
      ],
      "metadata": {
        "id": "n5UjrzOQgQdM"
      },
      "execution_count": null,
      "outputs": []
    },
    {
      "cell_type": "code",
      "execution_count": 13,
      "metadata": {
        "colab": {
          "base_uri": "https://localhost:8080/"
        },
        "id": "zkltl0QceLt6",
        "outputId": "c90f3e36-2492-4818-95c2-802643123fd2"
      },
      "outputs": [
        {
          "output_type": "stream",
          "name": "stdout",
          "text": [
            "Enter the temperature in Celsius: 56\n",
            "Temperature in Fahrenheit: 132.8\n"
          ]
        }
      ],
      "source": [
        "# Prompt the user to enter the temperature in Celsius and convert the input to a floating-point number.\n",
        "Celsius = float(input(\"Enter the temperature in Celsius: \"))\n",
        "\n",
        "# Calculate the temperature in Fahrenheit using the formula: (Celsius * 9/5) + 32\n",
        "# The formula converts Celsius to Fahrenheit.\n",
        "result = (Celsius * 9/5) + 32\n",
        "\n",
        "# Print the converted temperature in Fahrenheit.\n",
        "print(\"Temperature in Fahrenheit:\", result)\n"
      ]
    },
    {
      "cell_type": "code",
      "source": [
        "Q.4 Write a Python program that takes a string as input and prints the\n",
        "length of the string."
      ],
      "metadata": {
        "id": "uj8rBYyVg0W1"
      },
      "execution_count": null,
      "outputs": []
    },
    {
      "cell_type": "code",
      "execution_count": 14,
      "metadata": {
        "colab": {
          "base_uri": "https://localhost:8080/"
        },
        "id": "EqnLU3jegEup",
        "outputId": "d896e1e4-9aaa-4a43-dad2-7bb3830f4d60"
      },
      "outputs": [
        {
          "output_type": "stream",
          "name": "stdout",
          "text": [
            "Enter a string: kkkkkkk\n",
            "Length of the string: 7\n"
          ]
        }
      ],
      "source": [
        "# Get input from the user\n",
        "input_string = input(\"Enter a string: \")\n",
        "\n",
        "# Calculate the length of the input string\n",
        "string_length = len(input_string)\n",
        "\n",
        "# Print the length of the string\n",
        "print(\"Length of the string:\", string_length)\n"
      ]
    },
    {
      "cell_type": "code",
      "source": [
        "Q.5. Create a program that takes a sentence from the user and counts the\n",
        "number of vowels (a, e, i, o, u) in the string.\n"
      ],
      "metadata": {
        "id": "DLjEJHC6xeWf"
      },
      "execution_count": null,
      "outputs": []
    },
    {
      "cell_type": "code",
      "source": [
        "# Define a string containing all the vowels (both lowercase and uppercase).\n",
        "vowels = \"aeiouAEIOU\"\n",
        "\n",
        "# Prompt the user to enter a sentence.\n",
        "user_input = input(\"Enter a sentence: \")\n",
        "\n",
        "# Initialize a counter to keep track of the number of vowels.\n",
        "vowel_count = 0\n",
        "\n",
        "# Iterate through each character in the user's input.\n",
        "for char in user_input:\n",
        "    # Check if the current character is a vowel by comparing it to the 'vowels' string.\n",
        "    if char in vowels:\n",
        "        # If the character is a vowel, increment the vowel count.\n",
        "        vowel_count += 1\n",
        "\n",
        "# Print the total count of vowels in the input sentence.\n",
        "print(\"Number of vowels:\", vowel_count)\n",
        "\n"
      ],
      "metadata": {
        "colab": {
          "base_uri": "https://localhost:8080/"
        },
        "id": "FnS3bJp4w8Gi",
        "outputId": "3133ad6b-ab00-4e3f-8c22-72e210f6b69c"
      },
      "execution_count": 15,
      "outputs": [
        {
          "output_type": "stream",
          "name": "stdout",
          "text": [
            "Enter a sentence: pwskills\n",
            "Number of vowels: 1\n"
          ]
        }
      ]
    },
    {
      "cell_type": "code",
      "source": [
        "Q6. Given a string, reverse the order of characters using string slicing and\n",
        "print the reversed string."
      ],
      "metadata": {
        "id": "hF0XI3MdyvS2"
      },
      "execution_count": null,
      "outputs": []
    },
    {
      "cell_type": "code",
      "source": [
        "# Define the input string.\n",
        "input_string = \"Hello, World!\"\n",
        "\n",
        "# Use string slicing to reverse the input string.\n",
        "reversed_string = input_string[::-1]\n",
        "\n",
        "# Print the reversed string.\n",
        "print(reversed_string)\n",
        "\n"
      ],
      "metadata": {
        "colab": {
          "base_uri": "https://localhost:8080/"
        },
        "id": "4AC0VRCvxvJR",
        "outputId": "91c17840-cc27-4b25-988c-5390b52cf1e3"
      },
      "execution_count": 16,
      "outputs": [
        {
          "output_type": "stream",
          "name": "stdout",
          "text": [
            "!dlroW ,olleH\n"
          ]
        }
      ]
    },
    {
      "cell_type": "code",
      "source": [
        "Q7. Write a program that takes a string as input and checks if it is a\n",
        "palindrome (reads the same forwards and backwards).\n"
      ],
      "metadata": {
        "id": "SN8-EaydzRrg"
      },
      "execution_count": null,
      "outputs": []
    },
    {
      "cell_type": "code",
      "source": [
        "# Prompt the user to enter a string.\n",
        "user_input = input(\"Enter a string: \")\n",
        "\n",
        "# Remove spaces from the input string and convert it to lowercase.\n",
        "cleaned_input = user_input.replace(\" \", \"\").lower()\n",
        "\n",
        "# Reverse the cleaned input string using slicing.\n",
        "reversed_input = cleaned_input[::-1]\n",
        "\n",
        "# Check if the cleaned input string is the same as its reverse.\n",
        "if cleaned_input == reversed_input:\n",
        "    print(\"The string is a palindrome.\")\n",
        "else:\n",
        "    print(\"The string is not a palindrome.\")\n",
        "\n"
      ],
      "metadata": {
        "colab": {
          "base_uri": "https://localhost:8080/"
        },
        "id": "o7hNIrF5y-8k",
        "outputId": "f1e90e22-0b69-4197-b5ad-178702337ae7"
      },
      "execution_count": 17,
      "outputs": [
        {
          "output_type": "stream",
          "name": "stdout",
          "text": [
            "Enter a string: nitin\n",
            "The string is a palindrome.\n"
          ]
        }
      ]
    },
    {
      "cell_type": "code",
      "source": [
        "5. Create a program that takes a string as input and removes all the\n",
        "spaces from it. Print the modified string without spaces.\n"
      ],
      "metadata": {
        "id": "q42CxZmczqe_"
      },
      "execution_count": null,
      "outputs": []
    },
    {
      "cell_type": "code",
      "source": [
        "# Prompt the user to enter a string that may contain spaces.\n",
        "input_string = input(\"Enter a string with spaces: \")\n",
        "\n",
        "# Use the .replace() method to remove spaces from the input string.\n",
        "modified_string = input_string.replace(\" \", \"\")\n",
        "\n",
        "# Print the modified string without spaces.\n",
        "print(\"Modified string without spaces:\", modified_string)\n",
        "\n"
      ],
      "metadata": {
        "colab": {
          "base_uri": "https://localhost:8080/"
        },
        "id": "ecaKIMy2zx37",
        "outputId": "8eb23424-548e-4f05-d88e-48705d61b074"
      },
      "execution_count": 19,
      "outputs": [
        {
          "output_type": "stream",
          "name": "stdout",
          "text": [
            "Enter a string with spaces: pw skills is best\n",
            "Modified string without spaces: pwskillsisbest\n"
          ]
        }
      ]
    }
  ],
  "metadata": {
    "colab": {
      "provenance": []
    },
    "kernelspec": {
      "display_name": "Python 3",
      "name": "python3"
    },
    "language_info": {
      "name": "python"
    }
  },
  "nbformat": 4,
  "nbformat_minor": 0
}